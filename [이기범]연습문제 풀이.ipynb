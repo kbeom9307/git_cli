{
 "cells": [
  {
   "cell_type": "markdown",
   "metadata": {},
   "source": [
    "## 연습문제 \n",
    "---\n",
    "### [문제2] 문자열 인덱싱\n",
    "주민등록번호 뒷자리의 맨 **첫 번째 숫자는 성별**을 나타낸다. 주민등록번호에서 **성별을 나타내는 숫자를 출력**해 보자."
   ]
  },
  {
   "cell_type": "code",
   "execution_count": null,
   "metadata": {},
   "outputs": [],
   "source": [
    "pin = input(\"주민등록번호를 입력해주세요.(-)빼고 \")    # input() -> read \"string\"\n",
    "print(\"19\" + pin[:2] +\"년 \" + pin[2:4] + \"월 \" + pin[4:6] + \"일생 \")    # string indexing\n",
    "\n",
    "if(pin[6] == \"1\"):   \n",
    "    print(\"남자입니다.\")\n",
    "elif(pin[6] == \"2\"):\n",
    "    print(\"여자입니다.\")\n",
    "else :\n",
    "    print(\"잘못입력하셨습니다.\")"
   ]
  },
  {
   "cell_type": "markdown",
   "metadata": {},
   "source": [
    "### [문제2] 딕셔너리 오류\n",
    "다음과 같은 **딕셔너리 a**가 있다.  \n",
    "\n",
    "```{.python}\n",
    ">>> a = dict()\n",
    ">>> a\n",
    "{}\n",
    "```\n",
    "---\n",
    "다음 중 오류가 발생하는 경우는 어떤 경우인가? 그리고 그 이유를 설명하시오.\n",
    "```{.python}\n",
    "a['name'] = 'python'\n",
    "a[('a',)] = 'python'\n",
    "a[[1]] = 'python'\n",
    "a[250] = 'python'\n",
    "```\n"
   ]
  },
  {
   "cell_type": "code",
   "execution_count": null,
   "metadata": {},
   "outputs": [],
   "source": [
    "a = dict()\n",
    "a"
   ]
  },
  {
   "cell_type": "code",
   "execution_count": null,
   "metadata": {},
   "outputs": [],
   "source": [
    "a['name'] = 'python' # dic(key:'name') type(key)== string (immutable)"
   ]
  },
  {
   "cell_type": "code",
   "execution_count": null,
   "metadata": {},
   "outputs": [],
   "source": [
    "a[('a',)] = 'python' # dic(key:('a',)) type(key)== tuple (immutable)"
   ]
  },
  {
   "cell_type": "code",
   "execution_count": null,
   "metadata": {},
   "outputs": [],
   "source": [
    "a[[1]] = 'python'    # dic(key:([1])) type(key)== list (mutable)"
   ]
  },
  {
   "cell_type": "code",
   "execution_count": null,
   "metadata": {},
   "outputs": [],
   "source": [
    "a[250] = 'python'    # dic(key:(250)) type(key)== int (immutable)"
   ]
  },
  {
   "cell_type": "code",
   "execution_count": null,
   "metadata": {},
   "outputs": [],
   "source": [
    "a"
   ]
  }
 ],
 "metadata": {
  "kernelspec": {
   "display_name": "Python 3",
   "language": "python",
   "name": "python3"
  },
  "language_info": {
   "codemirror_mode": {
    "name": "ipython",
    "version": 3
   },
   "file_extension": ".py",
   "mimetype": "text/x-python",
   "name": "python",
   "nbconvert_exporter": "python",
   "pygments_lexer": "ipython3",
   "version": "3.5.2"
  }
 },
 "nbformat": 4,
 "nbformat_minor": 2
}
