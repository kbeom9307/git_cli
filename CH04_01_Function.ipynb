{
 "cells": [
  {
   "cell_type": "markdown",
   "metadata": {},
   "source": [
    "# 4-1 함수(Function)\n",
    "---\n",
    "\n",
    "## 1. 함수란 무엇이고 왜 사용하는가?\n",
    "<img src='./figures/box_function.png' width=\"150\" height=\"160\" title=\"함수 상자\">\n",
    "<br>\n",
    "<img src='./figures/math_function.png' width=\"190\" height=\"80\" title=\"수학에서 함수\">  \n",
    "    \n",
    "    - 프로그램에서 한 번 이상 실행할 수 있도록 여러 문을 그룹화하는 장치.\n",
    "    - 프로그램을 절차적으로 분해.\n",
    "    - 코드의 재사용성을 높이고 코드 중복성을 최소화.  \n",
    "    - 코드가 실행될 때마다 다른 입력값을 받을 수 있음."
   ]
  },
  {
   "cell_type": "code",
   "execution_count": null,
   "metadata": {},
   "outputs": [],
   "source": [
    "# 입력 a, b를 받아 각각 제곱이 짝수인지 판별하는 프로그램\n",
    "a = 4\n",
    "b = 2\n",
    "\n",
    "result_a = (a**2)%2 \n",
    "result_b = (b**2)%2\n",
    "\n",
    "if (result_a or result_b) == 0:\n",
    "    print(\"둘 다 짝수입니다 !\")\n",
    "else:\n",
    "    print(\"하나 이상이 홀수입니다 !\")\n",
    "result = result_a or result_b"
   ]
  },
  {
   "cell_type": "code",
   "execution_count": null,
   "metadata": {},
   "outputs": [],
   "source": [
    "# 입력 a, b를 받아 각각 제곱이 짝수인지 판별하는 프로그램\n",
    "def func_1(val):\n",
    "    return (val**2)%2\n",
    "\n",
    "def func_2(val1, val2):\n",
    "    if (result_a or result_b) == 0:\n",
    "        print(\"둘 다 짝수입니다 !\")\n",
    "    else:\n",
    "        print(\"하나 이상이 홀수입니다 !\")\n",
    "    return (result_a or result_b)\n",
    "\n",
    "\n",
    "a = 4\n",
    "b = 2\n",
    "\n",
    "result_a = func_1(a)\n",
    "result_b = func_1(b)\n",
    "\n",
    "reult = func_2(result_a, result_b)"
   ]
  },
  {
   "cell_type": "markdown",
   "metadata": {},
   "source": [
    "## 2. 함수만들기 (def)\n",
    "\n",
    "- **def**\n",
    "    - 함수 객체를 만들고 함수 이름을 할당.\n",
    "    - 들여쓰기가 매우 중요.\n",
    "\n",
    "### (1) 기본적인 포맷\n",
    "``` python\n",
    "def 함수이름(입력값1, 입력값2, ... 입력값N):\n",
    "  수행 코드\n",
    "  ...\n",
    "  수행 코드\n",
    "  return 결과값\n",
    "```"
   ]
  },
  {
   "cell_type": "code",
   "execution_count": 7,
   "metadata": {},
   "outputs": [
    {
     "name": "stdout",
     "output_type": "stream",
     "text": [
      "10\n"
     ]
    }
   ],
   "source": [
    "def add(a, b):\n",
    "    c = a + b\n",
    "    return c\n",
    "\n",
    "# a, b에 순서대로 4, 6이 지정됨.\n",
    "result = add(4, 6)\n",
    "print(result)"
   ]
  },
  {
   "cell_type": "code",
   "execution_count": 8,
   "metadata": {},
   "outputs": [
    {
     "name": "stdout",
     "output_type": "stream",
     "text": [
      "10\n",
      "10\n"
     ]
    }
   ],
   "source": [
    "result = add(a = 4, b = 6)\n",
    "print(result)\n",
    "\n",
    "# 순서가 바뀌어도 b, a에 각각 지정했기 때문에 순서에 상관하지 않음.\n",
    "result = add(b = 6, a = 4)\n",
    "print(result)"
   ]
  },
  {
   "cell_type": "code",
   "execution_count": 9,
   "metadata": {},
   "outputs": [
    {
     "name": "stdout",
     "output_type": "stream",
     "text": [
      "10\n"
     ]
    }
   ],
   "source": [
    "def add(a, b):\n",
    "    return a + b\n",
    "\n",
    "result = add(4, 6)\n",
    "print(result)"
   ]
  },
  {
   "cell_type": "code",
   "execution_count": 11,
   "metadata": {},
   "outputs": [
    {
     "name": "stdout",
     "output_type": "stream",
     "text": [
      "[2, 3, 4, 2, 3, 1]\n",
      "PythonMMMIL\n",
      "(2, 3, 1, 1, 2, 1)\n"
     ]
    }
   ],
   "source": [
    "# Sequence 는 + 시 concatenation! CH02_built-in_types 참고하세요!\n",
    "\n",
    "print(add([2,3,4], [2,3,1]))\n",
    "\n",
    "print(add('Python', 'MMMIL'))\n",
    "\n",
    "print(add((2,3,1), (1,2,1)))"
   ]
  },
  {
   "cell_type": "markdown",
   "metadata": {},
   "source": [
    "### (2) 입력값이 없는 경우\n",
    "``` python\n",
    "def 함수이름():\n",
    "    수행 코드\n",
    "    ...\n",
    "    수행 코드\n",
    "```"
   ]
  },
  {
   "cell_type": "code",
   "execution_count": 12,
   "metadata": {},
   "outputs": [],
   "source": [
    "def greet():\n",
    "    print(\"Hello, Python!\")"
   ]
  },
  {
   "cell_type": "code",
   "execution_count": 13,
   "metadata": {},
   "outputs": [
    {
     "name": "stdout",
     "output_type": "stream",
     "text": [
      "Hello, Python!\n"
     ]
    }
   ],
   "source": [
    "greet()"
   ]
  },
  {
   "cell_type": "markdown",
   "metadata": {},
   "source": [
    "### (3) 결과값이 없는 경우\n",
    "``` python\n",
    "def 함수이름(입력값1, 입력값2, ... 입력값N):\n",
    "    수행 코드\n",
    "    ...\n",
    "    수행 코드\n",
    "```"
   ]
  },
  {
   "cell_type": "code",
   "execution_count": 15,
   "metadata": {},
   "outputs": [],
   "source": [
    "def greet_name(name):\n",
    "    print(\"Hello, \" + name)"
   ]
  },
  {
   "cell_type": "code",
   "execution_count": 14,
   "metadata": {},
   "outputs": [
    {
     "name": "stdout",
     "output_type": "stream",
     "text": [
      "Hello, Jerry\n"
     ]
    }
   ],
   "source": [
    "    \n",
    "greet_name(\"Jerry\")"
   ]
  },
  {
   "cell_type": "markdown",
   "metadata": {},
   "source": [
    "### (4) 제어문이 있는 경우\n",
    "``` python\n",
    "def 함수이름(입력값1, 입력값2, ... 입력값N):\n",
    "    수행 코드\n",
    "    ...\n",
    "    수행 코드\n",
    "    for 값 in Sequence:\n",
    "        if 조건 1:\n",
    "            수행 코드\n",
    "            ...\n",
    "            return 결과값 1\n",
    "        elif 조건 2 :\n",
    "            수행 코드\n",
    "            ...\n",
    "            return 결과값 2\n",
    "        else :\n",
    "            수행 코드\n",
    "            ...\n",
    "            return 결과값 3\n",
    "\n",
    "```"
   ]
  },
  {
   "cell_type": "code",
   "execution_count": 16,
   "metadata": {},
   "outputs": [],
   "source": [
    "def intersect(val1, val2):\n",
    "    result = []\n",
    "    for x in val1:\n",
    "        if x in val2:\n",
    "            result.append(x)\n",
    "    return result"
   ]
  },
  {
   "cell_type": "code",
   "execution_count": 17,
   "metadata": {},
   "outputs": [
    {
     "name": "stdout",
     "output_type": "stream",
     "text": [
      "['S', 'A', 'M']\n"
     ]
    }
   ],
   "source": [
    "print(intersect(\"SPAM\", \"SCAM\"))"
   ]
  },
  {
   "cell_type": "code",
   "execution_count": 18,
   "metadata": {},
   "outputs": [
    {
     "name": "stdout",
     "output_type": "stream",
     "text": [
      "['S', 'A', 'M']\n"
     ]
    }
   ],
   "source": [
    "print(intersect(\"SPAM\", [\"S\",\"C\",\"A\",\"M\"]))"
   ]
  },
  {
   "cell_type": "markdown",
   "metadata": {},
   "source": [
    "### 서로 다른 숫자로 구성된 두 list 에서 **겹치지 않는** 숫자 뽑기."
   ]
  },
  {
   "cell_type": "code",
   "execution_count": null,
   "metadata": {},
   "outputs": [],
   "source": [
    "[1, 3, 5, 7, 9]\n",
    "[2, 4, 6, 7, 9]\n",
    "\n",
    "\n",
    "[1, 3, 5, 2, 4, 6]"
   ]
  },
  {
   "cell_type": "code",
   "execution_count": 22,
   "metadata": {},
   "outputs": [],
   "source": [
    "def intersect(val1, val2):\n",
    "    result = []\n",
    "    \n",
    "    for x in val1:\n",
    "        if x not in val2:\n",
    "            result.append(x)\n",
    "    \n",
    "    for x in val2:\n",
    "        if x not in val1:\n",
    "            result.append(x)\n",
    "    \n",
    "    return result"
   ]
  },
  {
   "cell_type": "code",
   "execution_count": 23,
   "metadata": {},
   "outputs": [
    {
     "data": {
      "text/plain": [
       "[1, 3, 5, 2, 4, 6]"
      ]
     },
     "execution_count": 23,
     "metadata": {},
     "output_type": "execute_result"
    }
   ],
   "source": [
    "intersect([1, 3, 5, 7, 9],[2, 4, 6, 7, 9])"
   ]
  },
  {
   "cell_type": "markdown",
   "metadata": {},
   "source": [
    "### (5) 출력값이 여러 개인 경우\n",
    "``` python\n",
    "def 함수이름(입력값1, 입력값2, ... 입력값N):\n",
    "    수행 코드\n",
    "    ...\n",
    "    수행 코드\n",
    "    return 결과값 1, 결과값 2, ...결과값 N\n",
    "\n",
    "```"
   ]
  },
  {
   "cell_type": "code",
   "execution_count": null,
   "metadata": {},
   "outputs": [],
   "source": []
  },
  {
   "cell_type": "code",
   "execution_count": null,
   "metadata": {},
   "outputs": [],
   "source": []
  },
  {
   "cell_type": "code",
   "execution_count": null,
   "metadata": {},
   "outputs": [],
   "source": []
  },
  {
   "cell_type": "code",
   "execution_count": null,
   "metadata": {},
   "outputs": [],
   "source": []
  },
  {
   "cell_type": "code",
   "execution_count": null,
   "metadata": {},
   "outputs": [],
   "source": []
  },
  {
   "cell_type": "code",
   "execution_count": null,
   "metadata": {},
   "outputs": [],
   "source": []
  },
  {
   "cell_type": "code",
   "execution_count": 24,
   "metadata": {},
   "outputs": [],
   "source": [
    "def compute(a, b):\n",
    "    result_1 = a + b\n",
    "    result_2 = a * b\n",
    "    return result_1, result_2"
   ]
  },
  {
   "cell_type": "code",
   "execution_count": 25,
   "metadata": {},
   "outputs": [
    {
     "name": "stdout",
     "output_type": "stream",
     "text": [
      "(7, 12)\n"
     ]
    }
   ],
   "source": [
    "# 결과값이 여러 개일때 호출하면 N개의 출력값이 tuple로 반환!\n",
    "print(compute(3, 4))"
   ]
  },
  {
   "cell_type": "code",
   "execution_count": 26,
   "metadata": {},
   "outputs": [
    {
     "name": "stdout",
     "output_type": "stream",
     "text": [
      "7\n",
      "12\n"
     ]
    }
   ],
   "source": [
    "# Unpacking\n",
    "# 다음과 같이 선언하면 a 에는 3, b 에는 7이 됨.\n",
    "a, b = compute(3, 4)\n",
    "print(a)\n",
    "print(b)"
   ]
  },
  {
   "cell_type": "code",
   "execution_count": null,
   "metadata": {},
   "outputs": [],
   "source": []
  },
  {
   "cell_type": "code",
   "execution_count": null,
   "metadata": {},
   "outputs": [],
   "source": []
  },
  {
   "cell_type": "code",
   "execution_count": null,
   "metadata": {},
   "outputs": [],
   "source": []
  },
  {
   "cell_type": "code",
   "execution_count": null,
   "metadata": {},
   "outputs": [],
   "source": []
  },
  {
   "cell_type": "code",
   "execution_count": null,
   "metadata": {},
   "outputs": [],
   "source": []
  },
  {
   "cell_type": "code",
   "execution_count": null,
   "metadata": {},
   "outputs": [],
   "source": []
  },
  {
   "cell_type": "code",
   "execution_count": null,
   "metadata": {},
   "outputs": [],
   "source": []
  },
  {
   "cell_type": "code",
   "execution_count": null,
   "metadata": {},
   "outputs": [],
   "source": []
  },
  {
   "cell_type": "markdown",
   "metadata": {},
   "source": [
    "### a, b를 받아서 더하기, 빼기, 곱하기, 나누기 결과를 한번에 출력해주는 함수 만들기"
   ]
  },
  {
   "cell_type": "code",
   "execution_count": 27,
   "metadata": {},
   "outputs": [
    {
     "name": "stdout",
     "output_type": "stream",
     "text": [
      "(7, -3, 10, 0.4)\n"
     ]
    }
   ],
   "source": [
    "def compute2(a, b):\n",
    "    add = a+b\n",
    "    sub = a-b\n",
    "    mul = a*b\n",
    "    div = a/b\n",
    "    return add, sub, mul, div\n",
    "\n",
    "print(compute2(2, 5))"
   ]
  },
  {
   "cell_type": "code",
   "execution_count": 28,
   "metadata": {},
   "outputs": [
    {
     "name": "stdout",
     "output_type": "stream",
     "text": [
      "(7, -3, 10, 0.4)\n"
     ]
    }
   ],
   "source": [
    "def compute2(a, b):\n",
    "    return a+b, a-b, a*b, a/b\n",
    "print(compute2(2, 5))"
   ]
  },
  {
   "cell_type": "code",
   "execution_count": 29,
   "metadata": {},
   "outputs": [
    {
     "ename": "ValueError",
     "evalue": "too many values to unpack (expected 2)",
     "output_type": "error",
     "traceback": [
      "\u001b[1;31m-------------------------------------------------------------------------\u001b[0m",
      "\u001b[1;31mValueError\u001b[0m                              Traceback (most recent call last)",
      "\u001b[1;32m<ipython-input-29-5df0798b9c53>\u001b[0m in \u001b[0;36m<module>\u001b[1;34m\u001b[0m\n\u001b[1;32m----> 1\u001b[1;33m \u001b[0ma\u001b[0m\u001b[1;33m,\u001b[0m \u001b[0mb\u001b[0m \u001b[1;33m=\u001b[0m \u001b[0mcompute2\u001b[0m\u001b[1;33m(\u001b[0m\u001b[1;36m2\u001b[0m\u001b[1;33m,\u001b[0m \u001b[1;36m5\u001b[0m\u001b[1;33m)\u001b[0m\u001b[1;33m\u001b[0m\u001b[1;33m\u001b[0m\u001b[0m\n\u001b[0m\u001b[0;32m      2\u001b[0m \u001b[0mprint\u001b[0m\u001b[1;33m(\u001b[0m\u001b[0ma\u001b[0m\u001b[1;33m)\u001b[0m\u001b[1;33m\u001b[0m\u001b[1;33m\u001b[0m\u001b[0m\n\u001b[0;32m      3\u001b[0m \u001b[0mprint\u001b[0m\u001b[1;33m(\u001b[0m\u001b[0mb\u001b[0m\u001b[1;33m)\u001b[0m\u001b[1;33m\u001b[0m\u001b[1;33m\u001b[0m\u001b[0m\n",
      "\u001b[1;31mValueError\u001b[0m: too many values to unpack (expected 2)"
     ]
    }
   ],
   "source": [
    "a, b = compute2(2, 5)\n",
    "print(a)\n",
    "print(b)"
   ]
  },
  {
   "cell_type": "code",
   "execution_count": null,
   "metadata": {},
   "outputs": [],
   "source": [
    "def generator(x):\n",
    "    while 1:\n",
    "        for i in x:\n",
    "            yield (i)\n",
    "\n",
    "a = generator([1,2,3,4,5])\n",
    "\n",
    "a.send(5)\n",
    "\n",
    "next(a)"
   ]
  },
  {
   "cell_type": "markdown",
   "metadata": {},
   "source": [
    "## 3. Global & Local\n"
   ]
  },
  {
   "cell_type": "code",
   "execution_count": 107,
   "metadata": {},
   "outputs": [
    {
     "name": "stdout",
     "output_type": "stream",
     "text": [
      "43\n",
      "6\n",
      "43\n"
     ]
    }
   ],
   "source": [
    "a = 43\n",
    "\n",
    "def add(x, y):\n",
    "    a = x + y\n",
    "    #print(a)\n",
    "    return a\n",
    "\n",
    "print(a)\n",
    "print(add(2, 4))\n",
    "print(a)"
   ]
  },
  {
   "cell_type": "code",
   "execution_count": 108,
   "metadata": {},
   "outputs": [
    {
     "name": "stdout",
     "output_type": "stream",
     "text": [
      "43\n",
      "6\n",
      "6\n"
     ]
    }
   ],
   "source": [
    "a = 43\n",
    "\n",
    "def add(x, y):\n",
    "    global a\n",
    "    a = x + y\n",
    "    #print(a)\n",
    "    return a\n",
    "\n",
    "print(a)\n",
    "print(add(2, 4))\n",
    "print(a)"
   ]
  },
  {
   "cell_type": "code",
   "execution_count": 109,
   "metadata": {},
   "outputs": [
    {
     "name": "stdout",
     "output_type": "stream",
     "text": [
      "5\n"
     ]
    },
    {
     "ename": "NameError",
     "evalue": "name 'val' is not defined",
     "output_type": "error",
     "traceback": [
      "\u001b[1;31m-------------------------------------------------------------------------\u001b[0m",
      "\u001b[1;31mNameError\u001b[0m                               Traceback (most recent call last)",
      "\u001b[1;32m<ipython-input-109-12d512db115a>\u001b[0m in \u001b[0;36m<module>\u001b[1;34m\u001b[0m\n\u001b[0;32m      3\u001b[0m     \u001b[0mprint\u001b[0m\u001b[1;33m(\u001b[0m\u001b[0mval\u001b[0m\u001b[1;33m)\u001b[0m\u001b[1;33m\u001b[0m\u001b[1;33m\u001b[0m\u001b[0m\n\u001b[0;32m      4\u001b[0m \u001b[0mtest\u001b[0m\u001b[1;33m(\u001b[0m\u001b[1;33m)\u001b[0m\u001b[1;33m\u001b[0m\u001b[1;33m\u001b[0m\u001b[0m\n\u001b[1;32m----> 5\u001b[1;33m \u001b[0mprint\u001b[0m\u001b[1;33m(\u001b[0m\u001b[0mval\u001b[0m\u001b[1;33m)\u001b[0m\u001b[1;33m\u001b[0m\u001b[1;33m\u001b[0m\u001b[0m\n\u001b[0m",
      "\u001b[1;31mNameError\u001b[0m: name 'val' is not defined"
     ]
    }
   ],
   "source": [
    "def test():\n",
    "    val = 5\n",
    "    print(val)\n",
    "test()\n",
    "print(val)"
   ]
  },
  {
   "cell_type": "code",
   "execution_count": 110,
   "metadata": {},
   "outputs": [
    {
     "name": "stdout",
     "output_type": "stream",
     "text": [
      "5\n",
      "5\n"
     ]
    }
   ],
   "source": [
    "def test():\n",
    "    global val\n",
    "    val = 5\n",
    "    print(val)\n",
    "test()\n",
    "print(val)"
   ]
  },
  {
   "cell_type": "markdown",
   "metadata": {},
   "source": [
    "## 4. 매개변수\n",
    "\n",
    "### (1) * args\n",
    "- N 개의 매개변수를 받음.\n",
    "- * 을 이용.\n",
    "- *val, *python 등과 같이 *이름이라고 마음대로 선언해도 됨.\n",
    "- 보통은 arguments의 약자로 *args 로 사용.\n",
    "- tuple로 반환."
   ]
  },
  {
   "cell_type": "code",
   "execution_count": 111,
   "metadata": {},
   "outputs": [],
   "source": [
    "def test(*args):\n",
    "    return args"
   ]
  },
  {
   "cell_type": "code",
   "execution_count": 114,
   "metadata": {},
   "outputs": [
    {
     "name": "stdout",
     "output_type": "stream",
     "text": [
      "<class 'tuple'>\n",
      "(1, 2, 5, 3, 6, 7, 8, 34, 1, 4, 5)\n"
     ]
    }
   ],
   "source": [
    "a = test(1, 2, 5, 3, 6, 7, 8, 34,1, 4,5)\n",
    "print(type(a))\n",
    "print(a)"
   ]
  },
  {
   "cell_type": "code",
   "execution_count": 116,
   "metadata": {},
   "outputs": [
    {
     "name": "stdout",
     "output_type": "stream",
     "text": [
      "<class 'tuple'>\n",
      "(1, 2, 5, 3, 6)\n"
     ]
    }
   ],
   "source": [
    "def test(*val):\n",
    "    return val\n",
    "\n",
    "a = test(1, 2, 5, 3, 6)\n",
    "print(type(a))\n",
    "print(a)"
   ]
  },
  {
   "cell_type": "markdown",
   "metadata": {},
   "source": [
    "### n개의 숫자를 받아서 모두 더하는 함수를 만들어보기."
   ]
  },
  {
   "cell_type": "code",
   "execution_count": 117,
   "metadata": {},
   "outputs": [
    {
     "name": "stdout",
     "output_type": "stream",
     "text": [
      "15\n",
      "28\n"
     ]
    }
   ],
   "source": [
    "a = [1,2,3,4,5]\n",
    "b = [2,5,6,3]\n",
    "def sum_all(*args):\n",
    "    result = 0\n",
    "    for x in args:\n",
    "        result += x\n",
    "    return result\n",
    "\n",
    "result = sum_all(1,2,3,4,5)\n",
    "print(result)\n",
    "\n",
    "result = sum_all(1,2,3,4,5,6,7)\n",
    "print(result)"
   ]
  },
  {
   "cell_type": "markdown",
   "metadata": {},
   "source": [
    "### (2) **kwargs\n",
    "- N개의 매개변수를 받음.\n",
    "- ** 을 이용.\n",
    "- **val, **python 등과 같이 **이름이라고 마음대로 선언해도 됨.\n",
    "- 보통은 keyword arguments 의 약자로 **kwargs 로 사용.\n",
    "- dictionary로 반환."
   ]
  },
  {
   "cell_type": "code",
   "execution_count": 120,
   "metadata": {},
   "outputs": [],
   "source": [
    "def test(**kwargs):\n",
    "    return kwargs"
   ]
  },
  {
   "cell_type": "code",
   "execution_count": 121,
   "metadata": {},
   "outputs": [
    {
     "name": "stdout",
     "output_type": "stream",
     "text": [
      "<class 'dict'>\n",
      "{'name': 'python', 'ver': '3.6.8'}\n"
     ]
    }
   ],
   "source": [
    "a = test(name=\"python\", ver=\"3.6.8\")\n",
    "print(type(a))\n",
    "print(a)"
   ]
  },
  {
   "cell_type": "code",
   "execution_count": 123,
   "metadata": {},
   "outputs": [],
   "source": [
    "def addormat(**kwargs):\n",
    "    if kwargs['op'] == 'add':\n",
    "        result = 0\n",
    "        for x in kwargs['val']:\n",
    "            result += x\n",
    "        return result\n",
    "\n",
    "    elif kwargs['op'] == 'mul':\n",
    "        result = 1\n",
    "        for x in kwargs['val']:\n",
    "            result *= x\n",
    "        return result\n",
    "    "
   ]
  },
  {
   "cell_type": "code",
   "execution_count": 124,
   "metadata": {},
   "outputs": [
    {
     "name": "stdout",
     "output_type": "stream",
     "text": [
      "36\n"
     ]
    }
   ],
   "source": [
    "print(addormat(op='mul', val=[2,6,3]))"
   ]
  },
  {
   "cell_type": "code",
   "execution_count": 131,
   "metadata": {},
   "outputs": [
    {
     "name": "stdout",
     "output_type": "stream",
     "text": [
      "151\n"
     ]
    }
   ],
   "source": [
    "print(addormat(op='add', val=[11,50,90]))"
   ]
  },
  {
   "cell_type": "code",
   "execution_count": null,
   "metadata": {},
   "outputs": [],
   "source": []
  },
  {
   "cell_type": "markdown",
   "metadata": {},
   "source": [
    "## **kwargs 를 이용하여 add, mul, sub, div 하는 함수 만들기\n",
    "\n",
    "- sub 는 result 초기값을 0.\n",
    "\n",
    "- div 는 result 초기값을 1."
   ]
  },
  {
   "cell_type": "code",
   "execution_count": null,
   "metadata": {},
   "outputs": [],
   "source": [
    "def addormat(**kwargs):\n",
    "    if kwargs['op'] == 'add':\n",
    "        result = 0\n",
    "        for x in kwargs['val']:\n",
    "            result += x\n",
    "        return result\n",
    "\n",
    "    elif kwargs['op'] == 'mul':\n",
    "        result = 1\n",
    "        for x in kwargs['val']:\n",
    "            result *= x\n",
    "        return result\n",
    "    \n",
    "\n",
    "\n",
    "\n",
    "\n",
    "\n",
    "\n",
    "\n",
    "\n",
    "\n",
    "\n",
    "\n",
    "\n",
    "\n",
    "\n",
    "\n",
    "\n",
    "\n",
    "\n",
    "\n",
    "\n",
    "\n",
    "\n",
    "\n",
    "\n",
    "\n",
    "\n",
    "\n",
    "\n",
    "\n",
    "\n"
   ]
  },
  {
   "cell_type": "markdown",
   "metadata": {},
   "source": [
    "### Tip. Docstring\n",
    "- 함수에 대한 설명.\n",
    "``` python\n",
    "a = [1,2,3]\n",
    "a.append()\n",
    "```"
   ]
  },
  {
   "cell_type": "code",
   "execution_count": null,
   "metadata": {},
   "outputs": [],
   "source": []
  },
  {
   "cell_type": "code",
   "execution_count": 132,
   "metadata": {},
   "outputs": [],
   "source": [
    "a = [2,5,6,1]"
   ]
  },
  {
   "cell_type": "code",
   "execution_count": null,
   "metadata": {},
   "outputs": [],
   "source": [
    "a.append()"
   ]
  },
  {
   "cell_type": "code",
   "execution_count": 134,
   "metadata": {},
   "outputs": [],
   "source": [
    "def make_docstring():\n",
    "    \"\"\"\n",
    "    a : x\n",
    "    b : y\n",
    "    c : x + y\n",
    "    This Function is testing about docstring.\n",
    "    \"\"\"\n",
    "    pass"
   ]
  },
  {
   "cell_type": "code",
   "execution_count": null,
   "metadata": {},
   "outputs": [],
   "source": [
    "make_docstring()"
   ]
  },
  {
   "cell_type": "markdown",
   "metadata": {},
   "source": [
    "## 5. 함수만들기 (lambda)\n",
    "- lambda 표현식은 block을 이용한 statements가 아님.\n",
    "- 가벼운, 짧은 함수 만들때 이용.\n",
    "- lambda만 사용할 수 있고 def 안에 중첩하여 사용할 수 있음.\n",
    "\n",
    "```python\n",
    "lambda 매개변수1, 매개변수2, ... : 매개변수를 이용한 표현식\n",
    "```"
   ]
  },
  {
   "cell_type": "code",
   "execution_count": 135,
   "metadata": {},
   "outputs": [],
   "source": [
    "def add_def(x, y):\n",
    "    return x+y\n",
    "\n",
    "add = lambda x, y: x+y\n"
   ]
  },
  {
   "cell_type": "code",
   "execution_count": 136,
   "metadata": {},
   "outputs": [
    {
     "name": "stdout",
     "output_type": "stream",
     "text": [
      "3\n",
      "3\n"
     ]
    }
   ],
   "source": [
    "print(add_def(1, 2))\n",
    "print(add(1, 2))"
   ]
  },
  {
   "cell_type": "markdown",
   "metadata": {},
   "source": [
    "## 6. Etc..\n",
    "- 함수 안에 함수 안에 함수....."
   ]
  },
  {
   "cell_type": "code",
   "execution_count": 5,
   "metadata": {},
   "outputs": [],
   "source": [
    "def complex_func(a, b):\n",
    "    \n",
    "    def add(a, b):\n",
    "        return a+b\n",
    "    \n",
    "    def div(a, b):\n",
    "        return a/b\n",
    "    \n",
    "    x = add(a, b)\n",
    "    y = div(a, b)\n",
    "    return x, y, x+y"
   ]
  },
  {
   "cell_type": "code",
   "execution_count": 6,
   "metadata": {},
   "outputs": [
    {
     "data": {
      "text/plain": [
       "(8, 0.6, 8.6)"
      ]
     },
     "execution_count": 6,
     "metadata": {},
     "output_type": "execute_result"
    }
   ],
   "source": [
    "complex_func(3,5)"
   ]
  }
 ],
 "metadata": {
  "kernelspec": {
   "display_name": "Python 3",
   "language": "python",
   "name": "python3"
  },
  "language_info": {
   "codemirror_mode": {
    "name": "ipython",
    "version": 3
   },
   "file_extension": ".py",
   "mimetype": "text/x-python",
   "name": "python",
   "nbconvert_exporter": "python",
   "pygments_lexer": "ipython3",
   "version": "3.5.2"
  }
 },
 "nbformat": 4,
 "nbformat_minor": 2
}
