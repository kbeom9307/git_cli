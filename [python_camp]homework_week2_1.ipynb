{
 "cells": [
  {
   "cell_type": "code",
   "execution_count": 3,
   "metadata": {},
   "outputs": [
    {
     "name": "stdout",
     "output_type": "stream",
     "text": [
      "몇 층짜리 트리를 만들까요? : 10\n",
      "              *               \n",
      "             ***              \n",
      "            *****             \n",
      "           *******            \n",
      "          *********           \n",
      "         ***********          \n",
      "        *************         \n",
      "       ***************        \n",
      "      *****************       \n",
      "     *******************      \n",
      "\n",
      "<class '_io.TextIOWrapper'>\n"
     ]
    }
   ],
   "source": [
    "def make_startree():\n",
    "    f = open(\"tree.txt\", \"w\")    # tree.txt 생성\n",
    "    flr = input(\"몇 층짜리 트리를 만들까요? : \") # 층수 입력 \n",
    "    for th in range(1,int(flr)+1): # 입력한 층수대로 트리 만들기\n",
    "        f.write(\"{0:^30}\\n\".format(\"*\"*(2*th-1))) # 30칸 가운데 정렬\n",
    "    f.close()    # tree. txt 닫기\n",
    "    with open(\"tree.txt\", \"r\") as d: # 읽기\n",
    "        tree = d.read()\n",
    "    print(tree)\n",
    "    \n",
    "make_startree()"
   ]
  },
  {
   "cell_type": "code",
   "execution_count": null,
   "metadata": {},
   "outputs": [],
   "source": []
  }
 ],
 "metadata": {
  "kernelspec": {
   "display_name": "Python 3",
   "language": "python",
   "name": "python3"
  },
  "language_info": {
   "codemirror_mode": {
    "name": "ipython",
    "version": 3
   },
   "file_extension": ".py",
   "mimetype": "text/x-python",
   "name": "python",
   "nbconvert_exporter": "python",
   "pygments_lexer": "ipython3",
   "version": "3.5.2"
  }
 },
 "nbformat": 4,
 "nbformat_minor": 2
}
