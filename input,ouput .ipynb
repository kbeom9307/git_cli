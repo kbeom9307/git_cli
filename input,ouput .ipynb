{
 "cells": [
  {
   "cell_type": "code",
   "execution_count": null,
   "metadata": {},
   "outputs": [],
   "source": [
    "## 함수 만들기 / 함수 객체를 만들고 이름을 할당, indent 중요 \n",
    "## def name(input1, input2 ``` inputN)\n",
    "    ## execute code 1\n",
    "    ## execute code 2\n",
    "    ## return code\n",
    "    \n",
    "def add(a, b):\n",
    "    return a + b\n",
    "result = add(4,6)\n",
    "result\n",
    "    \n"
   ]
  },
  {
   "cell_type": "code",
   "execution_count": null,
   "metadata": {},
   "outputs": [],
   "source": [
    "def greet(): # 입력값이 없는경우\n",
    "    print(\"hi, C++\")\n",
    "    \n",
    "greet()"
   ]
  },
  {
   "cell_type": "code",
   "execution_count": null,
   "metadata": {},
   "outputs": [],
   "source": [
    "def greet_name(name):\n",
    "    print(\"hi, \"+ name)\n",
    "\n",
    "greet_name(\"python\")"
   ]
  },
  {
   "cell_type": "code",
   "execution_count": null,
   "metadata": {},
   "outputs": [],
   "source": [
    "def intersect(a,b):\n",
    "    c =[]\n",
    "    for x in a:\n",
    "        if x not in b:\n",
    "            c.append(x)\n",
    "    for x in b:\n",
    "        if x not in a:\n",
    "            c.append(x)\n",
    "            \n",
    "    return c\n",
    "\n",
    "intersect([1, 3, 5, 7, 9],[2, 4, 6, 7, 9])"
   ]
  },
  {
   "cell_type": "code",
   "execution_count": null,
   "metadata": {},
   "outputs": [],
   "source": [
    "# many output case\n",
    "def compute(a, b):\n",
    "    res_1 = a +b\n",
    "    res_2 = a *b\n",
    "    return res_1, res_2\n",
    "\n",
    "compute(3,4) # 결과값이 여러개일때 호출하면 N개의 출력값이 tuple로 반환!\n",
    "a, b = compute(5,6)\n",
    "print(a)\n",
    "print(b)"
   ]
  },
  {
   "cell_type": "code",
   "execution_count": null,
   "metadata": {},
   "outputs": [],
   "source": [
    "def compute(a,b):\n",
    "    res1 = a+b\n",
    "    res2 = a*b\n",
    "    if b > a :\n",
    "        c = a\n",
    "        a = b\n",
    "        b = c\n",
    "    res3 = a-b\n",
    "    res4 = a/b    \n",
    "    return res1, res2, res3 ,res4\n",
    "\n",
    "print(compute(5,10))\n",
    "\n",
    "def shortcut(a,b):\n",
    "    return a+b, a*b, a-b, a/b\n",
    "\n",
    "shortcut(40, 50)"
   ]
  },
  {
   "cell_type": "code",
   "execution_count": null,
   "metadata": {},
   "outputs": [],
   "source": [
    "# global & local 전역변수 & 지역변수\n",
    "a = 43\n",
    "\n",
    "def add(x,y):\n",
    "    global a \n",
    "    a =x+y\n",
    "    print(id(a))\n",
    "    return a\n",
    "print(id(a))\n",
    "add(3,4)"
   ]
  },
  {
   "cell_type": "code",
   "execution_count": null,
   "metadata": {},
   "outputs": [],
   "source": [
    "# 매개변수 *args n개의 매개변수를 받음 tuple로 반환, *뒤에 매개변수이름은 자유\n",
    "def test (*aaa):\n",
    "    return aaa\n",
    "\n",
    "a= test(1)\n",
    "print(a)\n",
    "print(type(a))"
   ]
  },
  {
   "cell_type": "code",
   "execution_count": null,
   "metadata": {},
   "outputs": [],
   "source": [
    "def test (*args):\n",
    "    sum1 = 0\n",
    "    for a in args:\n",
    "        sum1 += a\n",
    "    return sum1\n",
    "        \n",
    "print(test(1,2,3,4,5))\n",
    "print(test(1,3,5,7,9, 11))\n",
    "print(test(1,2,3))"
   ]
  },
  {
   "cell_type": "code",
   "execution_count": null,
   "metadata": {},
   "outputs": [],
   "source": [
    "## keyword arguments , dic 형태로 반환"
   ]
  },
  {
   "cell_type": "code",
   "execution_count": null,
   "metadata": {},
   "outputs": [],
   "source": [
    "## 함수 만들기 (lambda)\n",
    "def add_def(x,y):\n",
    "    return x+y\n",
    "\n",
    "add = lambda x, y: x+y\n",
    "\n",
    "print(add_def(1,2))\n",
    "print(add(1,2))"
   ]
  },
  {
   "cell_type": "code",
   "execution_count": null,
   "metadata": {},
   "outputs": [],
   "source": [
    "a = {\"key\":[1,2,3]}\n",
    "a.values()\n",
    "type(a.values())"
   ]
  },
  {
   "cell_type": "code",
   "execution_count": null,
   "metadata": {},
   "outputs": [],
   "source": [
    "def matlab(**kwargs):\n",
    "    if kwargs[\"op\"] == \"add\":\n",
    "        result = 0\n",
    "        for x in kwargs[\"val\"]:\n",
    "            result += x\n",
    "        return result\n",
    "    elif kwargs[\"op\"] == \"mul\":\n",
    "        result = 1\n",
    "        for x in kwargs[\"val\"]:\n",
    "            result *= x\n",
    "        return result\n",
    "    elif kwargs[\"op\"] == \"sub\":\n",
    "        result = 0\n",
    "        for x in kwargs[\"val\"]:\n",
    "            result -= x\n",
    "        return result    \n",
    "    elif kwargs[\"op\"] == \"div\":\n",
    "        result = 1\n",
    "        for x in kwargs[\"val\"]:\n",
    "            result /= x\n",
    "        return result\n",
    "    \n",
    "print(matlab( op = \"add\", val = [1,2,3] ))\n",
    "print(matlab( op = \"mul\", val = [1,2,3] ))    \n",
    "print(matlab( op = \"sub\", val = [1,2,3] ))\n",
    "print(matlab( op = \"div\", val = [1,2,3] ))"
   ]
  },
  {
   "cell_type": "code",
   "execution_count": 7,
   "metadata": {},
   "outputs": [
    {
     "name": "stdout",
     "output_type": "stream",
     "text": [
      "123\n"
     ]
    }
   ],
   "source": [
    "print(1,2,3, sep=\"\")"
   ]
  },
  {
   "cell_type": "code",
   "execution_count": 32,
   "metadata": {},
   "outputs": [],
   "source": [
    "print(1,2,3, file =open (\"test.txt\",'a'))"
   ]
  },
  {
   "cell_type": "code",
   "execution_count": 24,
   "metadata": {},
   "outputs": [
    {
     "name": "stdout",
     "output_type": "stream",
     "text": [
      "몇단? 81\n",
      "81 162 243 324 405 486 567 648 729 "
     ]
    }
   ],
   "source": [
    "def gugu(x):\n",
    "    y = 0\n",
    "    for a in range(1,10):\n",
    "        y = x*a\n",
    "        print(y, end=\" \")\n",
    "        \n",
    "gugu(int(input(\"몇단? \")))"
   ]
  },
  {
   "cell_type": "code",
   "execution_count": 28,
   "metadata": {},
   "outputs": [
    {
     "name": "stdout",
     "output_type": "stream",
     "text": [
      "몇 단? = 99999\n",
      "99999 199998 299997 399996 499995 599994 699993 799992 899991 "
     ]
    }
   ],
   "source": [
    "#정답\n",
    "\n",
    "def gugudan():\n",
    "    dan = int(input(\"몇 단? = \"))\n",
    "    for x in range(1, 10):\n",
    "        print(dan*x, end=\" \")\n",
    "        \n",
    "gugudan()"
   ]
  },
  {
   "cell_type": "code",
   "execution_count": 58,
   "metadata": {},
   "outputs": [],
   "source": [
    "f = open(\"test.txt\", \"w\")\n",
    "for x in range(10):\n",
    "    f.write(\"%d\\n\" %x)\n"
   ]
  },
  {
   "cell_type": "code",
   "execution_count": 60,
   "metadata": {},
   "outputs": [
    {
     "name": "stdout",
     "output_type": "stream",
     "text": [
      "0\n",
      "1\n",
      "2\n",
      "3\n",
      "4\n",
      "5\n",
      "6\n",
      "7\n",
      "8\n",
      "9\n",
      "\n",
      "<class 'str'>\n"
     ]
    }
   ],
   "source": [
    "f = open(\"test.txt\", \"r\")\n",
    "data = f.read()\n",
    "f.close()\n",
    "print(data)\n",
    "print(type(data))"
   ]
  },
  {
   "cell_type": "code",
   "execution_count": 61,
   "metadata": {},
   "outputs": [
    {
     "data": {
      "text/plain": [
       "'0\\n1\\n2\\n3\\n4\\n5\\n6\\n7\\n8\\n9\\n'"
      ]
     },
     "execution_count": 61,
     "metadata": {},
     "output_type": "execute_result"
    }
   ],
   "source": [
    "data"
   ]
  },
  {
   "cell_type": "code",
   "execution_count": 62,
   "metadata": {},
   "outputs": [
    {
     "name": "stdout",
     "output_type": "stream",
     "text": [
      "['0\\n', '1\\n', '2\\n', '3\\n', '4\\n', '5\\n', '6\\n', '7\\n', '8\\n', '9\\n']\n",
      "<class 'list'>\n"
     ]
    }
   ],
   "source": [
    "f = open(\"test.txt\", \"r\")\n",
    "data = f.readlines()\n",
    "f.close()\n",
    "print(data)\n",
    "print(type(data))"
   ]
  },
  {
   "cell_type": "code",
   "execution_count": 77,
   "metadata": {
    "scrolled": true
   },
   "outputs": [],
   "source": [
    "f = open(\"gugudan.txt\", \"w\")\n",
    "for dan in range(2, 10):\n",
    "    for x in range(1, 10):\n",
    "        f.write(\"%d \" %(dan*x))\n",
    "    f.write(\"\\n\")\n",
    "f.close()"
   ]
  },
  {
   "cell_type": "code",
   "execution_count": null,
   "metadata": {},
   "outputs": [],
   "source": []
  }
 ],
 "metadata": {
  "kernelspec": {
   "display_name": "Python 3",
   "language": "python",
   "name": "python3"
  },
  "language_info": {
   "codemirror_mode": {
    "name": "ipython",
    "version": 3
   },
   "file_extension": ".py",
   "mimetype": "text/x-python",
   "name": "python",
   "nbconvert_exporter": "python",
   "pygments_lexer": "ipython3",
   "version": "3.5.2"
  }
 },
 "nbformat": 4,
 "nbformat_minor": 2
}
